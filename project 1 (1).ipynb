{
 "cells": [
  {
   "cell_type": "code",
   "execution_count": 81,
   "id": "e9593d6b-47c7-44ba-bf2d-9d4cd747abb3",
   "metadata": {},
   "outputs": [],
   "source": [
    "import pandas as pd\n",
    "import numpy as np\n",
    "import plotly as pt\n",
    "import matplotlib.pyplot as plt"
   ]
  },
  {
   "cell_type": "code",
   "execution_count": 82,
   "id": "0a907388-b07c-42bd-9d0e-a2f7d2ed4465",
   "metadata": {},
   "outputs": [],
   "source": [
    "df = pd.read_csv(\"C:/Users/FID bebshai forhad/Downloads/data.csv\")"
   ]
  },
  {
   "cell_type": "code",
   "execution_count": 83,
   "id": "467ff663-8528-4d3d-9084-e14f9e6d98c3",
   "metadata": {},
   "outputs": [
    {
     "data": {
      "text/html": [
       "<div>\n",
       "<style scoped>\n",
       "    .dataframe tbody tr th:only-of-type {\n",
       "        vertical-align: middle;\n",
       "    }\n",
       "\n",
       "    .dataframe tbody tr th {\n",
       "        vertical-align: top;\n",
       "    }\n",
       "\n",
       "    .dataframe thead th {\n",
       "        text-align: right;\n",
       "    }\n",
       "</style>\n",
       "<table border=\"1\" class=\"dataframe\">\n",
       "  <thead>\n",
       "    <tr style=\"text-align: right;\">\n",
       "      <th></th>\n",
       "      <th>Duration</th>\n",
       "      <th>Date</th>\n",
       "      <th>Pulse</th>\n",
       "      <th>Maxpulse</th>\n",
       "      <th>Calories</th>\n",
       "    </tr>\n",
       "  </thead>\n",
       "  <tbody>\n",
       "    <tr>\n",
       "      <th>0</th>\n",
       "      <td>60</td>\n",
       "      <td>'2020/12/01'</td>\n",
       "      <td>110</td>\n",
       "      <td>130</td>\n",
       "      <td>409.1</td>\n",
       "    </tr>\n",
       "    <tr>\n",
       "      <th>1</th>\n",
       "      <td>60</td>\n",
       "      <td>'2020/12/02'</td>\n",
       "      <td>117</td>\n",
       "      <td>145</td>\n",
       "      <td>479.0</td>\n",
       "    </tr>\n",
       "    <tr>\n",
       "      <th>2</th>\n",
       "      <td>60</td>\n",
       "      <td>'2020/12/03'</td>\n",
       "      <td>103</td>\n",
       "      <td>135</td>\n",
       "      <td>340.0</td>\n",
       "    </tr>\n",
       "    <tr>\n",
       "      <th>3</th>\n",
       "      <td>45</td>\n",
       "      <td>'2020/12/04'</td>\n",
       "      <td>109</td>\n",
       "      <td>175</td>\n",
       "      <td>282.4</td>\n",
       "    </tr>\n",
       "    <tr>\n",
       "      <th>4</th>\n",
       "      <td>45</td>\n",
       "      <td>'2020/12/05'</td>\n",
       "      <td>117</td>\n",
       "      <td>148</td>\n",
       "      <td>406.0</td>\n",
       "    </tr>\n",
       "    <tr>\n",
       "      <th>5</th>\n",
       "      <td>60</td>\n",
       "      <td>'2020/12/06'</td>\n",
       "      <td>102</td>\n",
       "      <td>127</td>\n",
       "      <td>300.0</td>\n",
       "    </tr>\n",
       "    <tr>\n",
       "      <th>6</th>\n",
       "      <td>60</td>\n",
       "      <td>'2020/12/07'</td>\n",
       "      <td>110</td>\n",
       "      <td>136</td>\n",
       "      <td>374.0</td>\n",
       "    </tr>\n",
       "    <tr>\n",
       "      <th>7</th>\n",
       "      <td>450</td>\n",
       "      <td>'2020/12/08'</td>\n",
       "      <td>104</td>\n",
       "      <td>134</td>\n",
       "      <td>253.3</td>\n",
       "    </tr>\n",
       "    <tr>\n",
       "      <th>8</th>\n",
       "      <td>30</td>\n",
       "      <td>'2020/12/09'</td>\n",
       "      <td>109</td>\n",
       "      <td>133</td>\n",
       "      <td>195.1</td>\n",
       "    </tr>\n",
       "    <tr>\n",
       "      <th>9</th>\n",
       "      <td>60</td>\n",
       "      <td>'2020/12/10'</td>\n",
       "      <td>98</td>\n",
       "      <td>124</td>\n",
       "      <td>269.0</td>\n",
       "    </tr>\n",
       "    <tr>\n",
       "      <th>10</th>\n",
       "      <td>60</td>\n",
       "      <td>'2020/12/11'</td>\n",
       "      <td>103</td>\n",
       "      <td>147</td>\n",
       "      <td>329.3</td>\n",
       "    </tr>\n",
       "    <tr>\n",
       "      <th>11</th>\n",
       "      <td>60</td>\n",
       "      <td>'2020/12/12'</td>\n",
       "      <td>100</td>\n",
       "      <td>120</td>\n",
       "      <td>250.7</td>\n",
       "    </tr>\n",
       "    <tr>\n",
       "      <th>12</th>\n",
       "      <td>60</td>\n",
       "      <td>'2020/12/12'</td>\n",
       "      <td>100</td>\n",
       "      <td>120</td>\n",
       "      <td>250.7</td>\n",
       "    </tr>\n",
       "    <tr>\n",
       "      <th>13</th>\n",
       "      <td>60</td>\n",
       "      <td>'2020/12/13'</td>\n",
       "      <td>106</td>\n",
       "      <td>128</td>\n",
       "      <td>345.3</td>\n",
       "    </tr>\n",
       "    <tr>\n",
       "      <th>14</th>\n",
       "      <td>60</td>\n",
       "      <td>'2020/12/14'</td>\n",
       "      <td>104</td>\n",
       "      <td>132</td>\n",
       "      <td>379.3</td>\n",
       "    </tr>\n",
       "    <tr>\n",
       "      <th>15</th>\n",
       "      <td>60</td>\n",
       "      <td>'2020/12/15'</td>\n",
       "      <td>98</td>\n",
       "      <td>123</td>\n",
       "      <td>275.0</td>\n",
       "    </tr>\n",
       "    <tr>\n",
       "      <th>16</th>\n",
       "      <td>60</td>\n",
       "      <td>'2020/12/16'</td>\n",
       "      <td>98</td>\n",
       "      <td>120</td>\n",
       "      <td>215.2</td>\n",
       "    </tr>\n",
       "    <tr>\n",
       "      <th>17</th>\n",
       "      <td>60</td>\n",
       "      <td>'2020/12/17'</td>\n",
       "      <td>100</td>\n",
       "      <td>120</td>\n",
       "      <td>300.0</td>\n",
       "    </tr>\n",
       "    <tr>\n",
       "      <th>18</th>\n",
       "      <td>45</td>\n",
       "      <td>'2020/12/18'</td>\n",
       "      <td>90</td>\n",
       "      <td>112</td>\n",
       "      <td>NaN</td>\n",
       "    </tr>\n",
       "    <tr>\n",
       "      <th>19</th>\n",
       "      <td>60</td>\n",
       "      <td>'2020/12/19'</td>\n",
       "      <td>103</td>\n",
       "      <td>123</td>\n",
       "      <td>323.0</td>\n",
       "    </tr>\n",
       "    <tr>\n",
       "      <th>20</th>\n",
       "      <td>45</td>\n",
       "      <td>'2020/12/20'</td>\n",
       "      <td>97</td>\n",
       "      <td>125</td>\n",
       "      <td>243.0</td>\n",
       "    </tr>\n",
       "    <tr>\n",
       "      <th>21</th>\n",
       "      <td>60</td>\n",
       "      <td>'2020/12/21'</td>\n",
       "      <td>108</td>\n",
       "      <td>131</td>\n",
       "      <td>364.2</td>\n",
       "    </tr>\n",
       "    <tr>\n",
       "      <th>22</th>\n",
       "      <td>45</td>\n",
       "      <td>NaN</td>\n",
       "      <td>100</td>\n",
       "      <td>119</td>\n",
       "      <td>282.0</td>\n",
       "    </tr>\n",
       "    <tr>\n",
       "      <th>23</th>\n",
       "      <td>60</td>\n",
       "      <td>'2020/12/23'</td>\n",
       "      <td>130</td>\n",
       "      <td>101</td>\n",
       "      <td>300.0</td>\n",
       "    </tr>\n",
       "    <tr>\n",
       "      <th>24</th>\n",
       "      <td>45</td>\n",
       "      <td>'2020/12/24'</td>\n",
       "      <td>105</td>\n",
       "      <td>132</td>\n",
       "      <td>246.0</td>\n",
       "    </tr>\n",
       "    <tr>\n",
       "      <th>25</th>\n",
       "      <td>60</td>\n",
       "      <td>'2020/12/25'</td>\n",
       "      <td>102</td>\n",
       "      <td>126</td>\n",
       "      <td>334.5</td>\n",
       "    </tr>\n",
       "    <tr>\n",
       "      <th>26</th>\n",
       "      <td>60</td>\n",
       "      <td>20201226</td>\n",
       "      <td>100</td>\n",
       "      <td>120</td>\n",
       "      <td>250.0</td>\n",
       "    </tr>\n",
       "    <tr>\n",
       "      <th>27</th>\n",
       "      <td>60</td>\n",
       "      <td>'2020/12/27'</td>\n",
       "      <td>92</td>\n",
       "      <td>118</td>\n",
       "      <td>241.0</td>\n",
       "    </tr>\n",
       "    <tr>\n",
       "      <th>28</th>\n",
       "      <td>60</td>\n",
       "      <td>'2020/12/28'</td>\n",
       "      <td>103</td>\n",
       "      <td>132</td>\n",
       "      <td>NaN</td>\n",
       "    </tr>\n",
       "    <tr>\n",
       "      <th>29</th>\n",
       "      <td>60</td>\n",
       "      <td>'2020/12/29'</td>\n",
       "      <td>100</td>\n",
       "      <td>132</td>\n",
       "      <td>280.0</td>\n",
       "    </tr>\n",
       "    <tr>\n",
       "      <th>30</th>\n",
       "      <td>60</td>\n",
       "      <td>'2020/12/30'</td>\n",
       "      <td>102</td>\n",
       "      <td>129</td>\n",
       "      <td>380.3</td>\n",
       "    </tr>\n",
       "    <tr>\n",
       "      <th>31</th>\n",
       "      <td>60</td>\n",
       "      <td>'2020/12/31'</td>\n",
       "      <td>92</td>\n",
       "      <td>115</td>\n",
       "      <td>243.0</td>\n",
       "    </tr>\n",
       "  </tbody>\n",
       "</table>\n",
       "</div>"
      ],
      "text/plain": [
       "    Duration          Date  Pulse  Maxpulse  Calories\n",
       "0         60  '2020/12/01'    110       130     409.1\n",
       "1         60  '2020/12/02'    117       145     479.0\n",
       "2         60  '2020/12/03'    103       135     340.0\n",
       "3         45  '2020/12/04'    109       175     282.4\n",
       "4         45  '2020/12/05'    117       148     406.0\n",
       "5         60  '2020/12/06'    102       127     300.0\n",
       "6         60  '2020/12/07'    110       136     374.0\n",
       "7        450  '2020/12/08'    104       134     253.3\n",
       "8         30  '2020/12/09'    109       133     195.1\n",
       "9         60  '2020/12/10'     98       124     269.0\n",
       "10        60  '2020/12/11'    103       147     329.3\n",
       "11        60  '2020/12/12'    100       120     250.7\n",
       "12        60  '2020/12/12'    100       120     250.7\n",
       "13        60  '2020/12/13'    106       128     345.3\n",
       "14        60  '2020/12/14'    104       132     379.3\n",
       "15        60  '2020/12/15'     98       123     275.0\n",
       "16        60  '2020/12/16'     98       120     215.2\n",
       "17        60  '2020/12/17'    100       120     300.0\n",
       "18        45  '2020/12/18'     90       112       NaN\n",
       "19        60  '2020/12/19'    103       123     323.0\n",
       "20        45  '2020/12/20'     97       125     243.0\n",
       "21        60  '2020/12/21'    108       131     364.2\n",
       "22        45           NaN    100       119     282.0\n",
       "23        60  '2020/12/23'    130       101     300.0\n",
       "24        45  '2020/12/24'    105       132     246.0\n",
       "25        60  '2020/12/25'    102       126     334.5\n",
       "26        60      20201226    100       120     250.0\n",
       "27        60  '2020/12/27'     92       118     241.0\n",
       "28        60  '2020/12/28'    103       132       NaN\n",
       "29        60  '2020/12/29'    100       132     280.0\n",
       "30        60  '2020/12/30'    102       129     380.3\n",
       "31        60  '2020/12/31'     92       115     243.0"
      ]
     },
     "execution_count": 83,
     "metadata": {},
     "output_type": "execute_result"
    }
   ],
   "source": [
    "df.head(50)"
   ]
  },
  {
   "cell_type": "code",
   "execution_count": 84,
   "id": "15606a57-4194-4052-bb6c-b58262dd0c2a",
   "metadata": {},
   "outputs": [
    {
     "name": "stdout",
     "output_type": "stream",
     "text": [
      "<class 'pandas.core.frame.DataFrame'>\n",
      "RangeIndex: 32 entries, 0 to 31\n",
      "Data columns (total 5 columns):\n",
      " #   Column    Non-Null Count  Dtype  \n",
      "---  ------    --------------  -----  \n",
      " 0   Duration  32 non-null     int64  \n",
      " 1   Date      31 non-null     object \n",
      " 2   Pulse     32 non-null     int64  \n",
      " 3   Maxpulse  32 non-null     int64  \n",
      " 4   Calories  30 non-null     float64\n",
      "dtypes: float64(1), int64(3), object(1)\n",
      "memory usage: 1.4+ KB\n"
     ]
    }
   ],
   "source": [
    "df.info()"
   ]
  },
  {
   "cell_type": "code",
   "execution_count": 85,
   "id": "41065bd3-986a-44e1-bba0-7e5c8924a6f5",
   "metadata": {},
   "outputs": [
    {
     "data": {
      "text/html": [
       "<div>\n",
       "<style scoped>\n",
       "    .dataframe tbody tr th:only-of-type {\n",
       "        vertical-align: middle;\n",
       "    }\n",
       "\n",
       "    .dataframe tbody tr th {\n",
       "        vertical-align: top;\n",
       "    }\n",
       "\n",
       "    .dataframe thead th {\n",
       "        text-align: right;\n",
       "    }\n",
       "</style>\n",
       "<table border=\"1\" class=\"dataframe\">\n",
       "  <thead>\n",
       "    <tr style=\"text-align: right;\">\n",
       "      <th></th>\n",
       "      <th>Duration</th>\n",
       "      <th>Pulse</th>\n",
       "      <th>Maxpulse</th>\n",
       "      <th>Calories</th>\n",
       "    </tr>\n",
       "  </thead>\n",
       "  <tbody>\n",
       "    <tr>\n",
       "      <th>count</th>\n",
       "      <td>32.000000</td>\n",
       "      <td>32.000000</td>\n",
       "      <td>32.000000</td>\n",
       "      <td>30.000000</td>\n",
       "    </tr>\n",
       "    <tr>\n",
       "      <th>mean</th>\n",
       "      <td>68.437500</td>\n",
       "      <td>103.500000</td>\n",
       "      <td>128.500000</td>\n",
       "      <td>304.680000</td>\n",
       "    </tr>\n",
       "    <tr>\n",
       "      <th>std</th>\n",
       "      <td>70.039591</td>\n",
       "      <td>7.832933</td>\n",
       "      <td>12.998759</td>\n",
       "      <td>66.003779</td>\n",
       "    </tr>\n",
       "    <tr>\n",
       "      <th>min</th>\n",
       "      <td>30.000000</td>\n",
       "      <td>90.000000</td>\n",
       "      <td>101.000000</td>\n",
       "      <td>195.100000</td>\n",
       "    </tr>\n",
       "    <tr>\n",
       "      <th>25%</th>\n",
       "      <td>60.000000</td>\n",
       "      <td>100.000000</td>\n",
       "      <td>120.000000</td>\n",
       "      <td>250.700000</td>\n",
       "    </tr>\n",
       "    <tr>\n",
       "      <th>50%</th>\n",
       "      <td>60.000000</td>\n",
       "      <td>102.500000</td>\n",
       "      <td>127.500000</td>\n",
       "      <td>291.200000</td>\n",
       "    </tr>\n",
       "    <tr>\n",
       "      <th>75%</th>\n",
       "      <td>60.000000</td>\n",
       "      <td>106.500000</td>\n",
       "      <td>132.250000</td>\n",
       "      <td>343.975000</td>\n",
       "    </tr>\n",
       "    <tr>\n",
       "      <th>max</th>\n",
       "      <td>450.000000</td>\n",
       "      <td>130.000000</td>\n",
       "      <td>175.000000</td>\n",
       "      <td>479.000000</td>\n",
       "    </tr>\n",
       "  </tbody>\n",
       "</table>\n",
       "</div>"
      ],
      "text/plain": [
       "         Duration       Pulse    Maxpulse    Calories\n",
       "count   32.000000   32.000000   32.000000   30.000000\n",
       "mean    68.437500  103.500000  128.500000  304.680000\n",
       "std     70.039591    7.832933   12.998759   66.003779\n",
       "min     30.000000   90.000000  101.000000  195.100000\n",
       "25%     60.000000  100.000000  120.000000  250.700000\n",
       "50%     60.000000  102.500000  127.500000  291.200000\n",
       "75%     60.000000  106.500000  132.250000  343.975000\n",
       "max    450.000000  130.000000  175.000000  479.000000"
      ]
     },
     "execution_count": 85,
     "metadata": {},
     "output_type": "execute_result"
    }
   ],
   "source": [
    "df.describe()"
   ]
  },
  {
   "cell_type": "code",
   "execution_count": 86,
   "id": "1fe77548-f799-44d0-b4a0-90625dee3278",
   "metadata": {},
   "outputs": [
    {
     "data": {
      "text/plain": [
       "Duration    0\n",
       "Date        1\n",
       "Pulse       0\n",
       "Maxpulse    0\n",
       "Calories    2\n",
       "dtype: int64"
      ]
     },
     "execution_count": 86,
     "metadata": {},
     "output_type": "execute_result"
    }
   ],
   "source": [
    "df.isna().sum()"
   ]
  },
  {
   "cell_type": "code",
   "execution_count": 87,
   "id": "e7031642-9f13-47fb-9579-016d571196e8",
   "metadata": {},
   "outputs": [
    {
     "data": {
      "text/plain": [
       "Duration     4\n",
       "Date        30\n",
       "Pulse       15\n",
       "Maxpulse    24\n",
       "Calories    26\n",
       "dtype: int64"
      ]
     },
     "execution_count": 87,
     "metadata": {},
     "output_type": "execute_result"
    }
   ],
   "source": [
    "df.nunique()"
   ]
  },
  {
   "cell_type": "markdown",
   "id": "d4789589-186d-4b62-b95e-559501028d1f",
   "metadata": {},
   "source": [
    "In this dataset there are total 32 observations fro 5 variables named Duration, Date, Pulse, Maxpulse and Calories.\n",
    "In Duration column we have 4 unique duration observation and 0 null value\n",
    "In Date column we have 30 unique obsevation and 1 null value\n",
    "In Pulse we have 15 unique observation and 0 null value\n",
    "In Maxpulse we have 24 unique observation and 0 null value\n",
    "In Calories we have 26 unique observation and 2 null values\n",
    "\n",
    "\n",
    "Now we will separate these  rows withh null values and also chech all these duplicate values"
   ]
  },
  {
   "cell_type": "code",
   "execution_count": 88,
   "id": "3afc64e3-5cd3-4bf2-a63f-e6c0117d919a",
   "metadata": {},
   "outputs": [
    {
     "name": "stdout",
     "output_type": "stream",
     "text": [
      "    Duration          Date  Pulse  Maxpulse  Calories\n",
      "18        45  '2020/12/18'     90       112       NaN\n",
      "22        45           NaN    100       119     282.0\n",
      "28        60  '2020/12/28'    103       132       NaN\n"
     ]
    }
   ],
   "source": [
    "df_null = df[df.isnull().any(axis=1)]\n",
    "print(df_null)"
   ]
  },
  {
   "cell_type": "markdown",
   "id": "1171d1dd-7f76-407f-996e-abf088378e59",
   "metadata": {},
   "source": [
    "Since null rows is not entirely null so we will not simply drop them but replace them with some values.\n",
    "Lets check date column first"
   ]
  },
  {
   "cell_type": "code",
   "execution_count": 89,
   "id": "a2b851ac-c415-49dd-b36e-685d1268d43e",
   "metadata": {},
   "outputs": [
    {
     "name": "stdout",
     "output_type": "stream",
     "text": [
      "0     '2020/12/01'\n",
      "1     '2020/12/02'\n",
      "2     '2020/12/03'\n",
      "3     '2020/12/04'\n",
      "4     '2020/12/05'\n",
      "5     '2020/12/06'\n",
      "6     '2020/12/07'\n",
      "7     '2020/12/08'\n",
      "8     '2020/12/09'\n",
      "9     '2020/12/10'\n",
      "10    '2020/12/11'\n",
      "11    '2020/12/12'\n",
      "12    '2020/12/12'\n",
      "13    '2020/12/13'\n",
      "14    '2020/12/14'\n",
      "15    '2020/12/15'\n",
      "16    '2020/12/16'\n",
      "17    '2020/12/17'\n",
      "18    '2020/12/18'\n",
      "19    '2020/12/19'\n",
      "20    '2020/12/20'\n",
      "21    '2020/12/21'\n",
      "22             NaN\n",
      "23    '2020/12/23'\n",
      "24    '2020/12/24'\n",
      "25    '2020/12/25'\n",
      "26        20201226\n",
      "27    '2020/12/27'\n",
      "28    '2020/12/28'\n",
      "29    '2020/12/29'\n",
      "30    '2020/12/30'\n",
      "31    '2020/12/31'\n",
      "Name: Date, dtype: object\n"
     ]
    }
   ],
   "source": [
    "print(df['Date'])"
   ]
  },
  {
   "cell_type": "markdown",
   "id": "7eac5f8f-ecf2-4214-95ca-dbadb8460ee4",
   "metadata": {},
   "source": [
    "we will clean date column.\n",
    "Since only missing value is date 2020/12/22 so we will replace null value in Date column in df.\n",
    "We can also see has the values has '' which we will remove\n",
    "on 27th row the data  20201226 which is not righly formatted so we will do that to."
   ]
  },
  {
   "cell_type": "code",
   "execution_count": 90,
   "id": "ee06b7db-8898-423b-936d-bdcf9b4c9756",
   "metadata": {},
   "outputs": [
    {
     "name": "stdout",
     "output_type": "stream",
     "text": [
      "    Duration          Date  Pulse  Maxpulse  Calories\n",
      "0         60  '2020/12/01'    110       130     409.1\n",
      "1         60  '2020/12/02'    117       145     479.0\n",
      "2         60  '2020/12/03'    103       135     340.0\n",
      "3         45  '2020/12/04'    109       175     282.4\n",
      "4         45  '2020/12/05'    117       148     406.0\n",
      "5         60  '2020/12/06'    102       127     300.0\n",
      "6         60  '2020/12/07'    110       136     374.0\n",
      "7        450  '2020/12/08'    104       134     253.3\n",
      "8         30  '2020/12/09'    109       133     195.1\n",
      "9         60  '2020/12/10'     98       124     269.0\n",
      "10        60  '2020/12/11'    103       147     329.3\n",
      "11        60  '2020/12/12'    100       120     250.7\n",
      "12        60  '2020/12/12'    100       120     250.7\n",
      "13        60  '2020/12/13'    106       128     345.3\n",
      "14        60  '2020/12/14'    104       132     379.3\n",
      "15        60  '2020/12/15'     98       123     275.0\n",
      "16        60  '2020/12/16'     98       120     215.2\n",
      "17        60  '2020/12/17'    100       120     300.0\n",
      "18        45  '2020/12/18'     90       112       NaN\n",
      "19        60  '2020/12/19'    103       123     323.0\n",
      "20        45  '2020/12/20'     97       125     243.0\n",
      "21        60  '2020/12/21'    108       131     364.2\n",
      "22        45    2020/12/22    100       119     282.0\n",
      "23        60  '2020/12/23'    130       101     300.0\n",
      "24        45  '2020/12/24'    105       132     246.0\n",
      "25        60  '2020/12/25'    102       126     334.5\n",
      "26        60      20201226    100       120     250.0\n",
      "27        60  '2020/12/27'     92       118     241.0\n",
      "28        60  '2020/12/28'    103       132       NaN\n",
      "29        60  '2020/12/29'    100       132     280.0\n",
      "30        60  '2020/12/30'    102       129     380.3\n",
      "31        60  '2020/12/31'     92       115     243.0\n"
     ]
    }
   ],
   "source": [
    "df['Date']= df['Date'].fillna('2020/12/22')\n",
    "print(df)"
   ]
  },
  {
   "cell_type": "code",
   "execution_count": 91,
   "id": "32af7698-0a2d-46e5-b3fe-218d6f13d708",
   "metadata": {},
   "outputs": [
    {
     "name": "stdout",
     "output_type": "stream",
     "text": [
      "    Duration        Date  Pulse  Maxpulse  Calories\n",
      "0         60  2020/12/01    110       130     409.1\n",
      "1         60  2020/12/02    117       145     479.0\n",
      "2         60  2020/12/03    103       135     340.0\n",
      "3         45  2020/12/04    109       175     282.4\n",
      "4         45  2020/12/05    117       148     406.0\n",
      "5         60  2020/12/06    102       127     300.0\n",
      "6         60  2020/12/07    110       136     374.0\n",
      "7        450  2020/12/08    104       134     253.3\n",
      "8         30  2020/12/09    109       133     195.1\n",
      "9         60  2020/12/10     98       124     269.0\n",
      "10        60  2020/12/11    103       147     329.3\n",
      "11        60  2020/12/12    100       120     250.7\n",
      "12        60  2020/12/12    100       120     250.7\n",
      "13        60  2020/12/13    106       128     345.3\n",
      "14        60  2020/12/14    104       132     379.3\n",
      "15        60  2020/12/15     98       123     275.0\n",
      "16        60  2020/12/16     98       120     215.2\n",
      "17        60  2020/12/17    100       120     300.0\n",
      "18        45  2020/12/18     90       112       NaN\n",
      "19        60  2020/12/19    103       123     323.0\n",
      "20        45  2020/12/20     97       125     243.0\n",
      "21        60  2020/12/21    108       131     364.2\n",
      "22        45  2020/12/22    100       119     282.0\n",
      "23        60  2020/12/23    130       101     300.0\n",
      "24        45  2020/12/24    105       132     246.0\n",
      "25        60  2020/12/25    102       126     334.5\n",
      "26        60    20201226    100       120     250.0\n",
      "27        60  2020/12/27     92       118     241.0\n",
      "28        60  2020/12/28    103       132       NaN\n",
      "29        60  2020/12/29    100       132     280.0\n",
      "30        60  2020/12/30    102       129     380.3\n",
      "31        60  2020/12/31     92       115     243.0\n"
     ]
    }
   ],
   "source": [
    "df['Date'] = df['Date'].str.replace(\"'\", \"\", regex=False)\n",
    "\n",
    "print(df)"
   ]
  },
  {
   "cell_type": "code",
   "execution_count": 92,
   "id": "8ecdce35-16a2-4f96-b781-6515d6aa702c",
   "metadata": {},
   "outputs": [
    {
     "name": "stdout",
     "output_type": "stream",
     "text": [
      "    Duration       Date  Pulse  Maxpulse  Calories\n",
      "0         60 2020-12-01    110       130     409.1\n",
      "1         60 2020-12-02    117       145     479.0\n",
      "2         60 2020-12-03    103       135     340.0\n",
      "3         45 2020-12-04    109       175     282.4\n",
      "4         45 2020-12-05    117       148     406.0\n",
      "5         60 2020-12-06    102       127     300.0\n",
      "6         60 2020-12-07    110       136     374.0\n",
      "7        450 2020-12-08    104       134     253.3\n",
      "8         30 2020-12-09    109       133     195.1\n",
      "9         60 2020-12-10     98       124     269.0\n",
      "10        60 2020-12-11    103       147     329.3\n",
      "11        60 2020-12-12    100       120     250.7\n",
      "12        60 2020-12-12    100       120     250.7\n",
      "13        60 2020-12-13    106       128     345.3\n",
      "14        60 2020-12-14    104       132     379.3\n",
      "15        60 2020-12-15     98       123     275.0\n",
      "16        60 2020-12-16     98       120     215.2\n",
      "17        60 2020-12-17    100       120     300.0\n",
      "18        45 2020-12-18     90       112       NaN\n",
      "19        60 2020-12-19    103       123     323.0\n",
      "20        45 2020-12-20     97       125     243.0\n",
      "21        60 2020-12-21    108       131     364.2\n",
      "22        45 2020-12-22    100       119     282.0\n",
      "23        60 2020-12-23    130       101     300.0\n",
      "24        45 2020-12-24    105       132     246.0\n",
      "25        60 2020-12-25    102       126     334.5\n",
      "26        60 2020-12-26    100       120     250.0\n",
      "27        60 2020-12-27     92       118     241.0\n",
      "28        60 2020-12-28    103       132       NaN\n",
      "29        60 2020-12-29    100       132     280.0\n",
      "30        60 2020-12-30    102       129     380.3\n",
      "31        60 2020-12-31     92       115     243.0\n"
     ]
    }
   ],
   "source": [
    "df.loc[26, 'Date'] = '2020/12/26'\n",
    "df['Date'] = pd.to_datetime(df['Date'], format='%Y/%m/%d')\n",
    "print(df)"
   ]
  },
  {
   "cell_type": "code",
   "execution_count": 93,
   "id": "f376c080-37ae-47c5-9c0f-030d4389b1f9",
   "metadata": {},
   "outputs": [
    {
     "name": "stdout",
     "output_type": "stream",
     "text": [
      "<class 'pandas.core.frame.DataFrame'>\n",
      "RangeIndex: 32 entries, 0 to 31\n",
      "Data columns (total 5 columns):\n",
      " #   Column    Non-Null Count  Dtype         \n",
      "---  ------    --------------  -----         \n",
      " 0   Duration  32 non-null     int64         \n",
      " 1   Date      32 non-null     datetime64[ns]\n",
      " 2   Pulse     32 non-null     int64         \n",
      " 3   Maxpulse  32 non-null     int64         \n",
      " 4   Calories  30 non-null     float64       \n",
      "dtypes: datetime64[ns](1), float64(1), int64(3)\n",
      "memory usage: 1.4 KB\n"
     ]
    }
   ],
   "source": [
    "df.info()"
   ]
  },
  {
   "cell_type": "code",
   "execution_count": null,
   "id": "49edc030-94a8-49f2-b7dc-2ae2e28ae093",
   "metadata": {},
   "outputs": [],
   "source": []
  },
  {
   "cell_type": "markdown",
   "id": "476dc017-36de-4a52-a563-9537aa463917",
   "metadata": {},
   "source": [
    "Now we wii fix Calories column for null values"
   ]
  },
  {
   "cell_type": "code",
   "execution_count": 94,
   "id": "771b56a5-8992-4086-8537-0cc3e6b9dc82",
   "metadata": {},
   "outputs": [
    {
     "name": "stdout",
     "output_type": "stream",
     "text": [
      "0     409.1\n",
      "1     479.0\n",
      "2     340.0\n",
      "3     282.4\n",
      "4     406.0\n",
      "5     300.0\n",
      "6     374.0\n",
      "7     253.3\n",
      "8     195.1\n",
      "9     269.0\n",
      "10    329.3\n",
      "11    250.7\n",
      "12    250.7\n",
      "13    345.3\n",
      "14    379.3\n",
      "15    275.0\n",
      "16    215.2\n",
      "17    300.0\n",
      "18      NaN\n",
      "19    323.0\n",
      "20    243.0\n",
      "21    364.2\n",
      "22    282.0\n",
      "23    300.0\n",
      "24    246.0\n",
      "25    334.5\n",
      "26    250.0\n",
      "27    241.0\n",
      "28      NaN\n",
      "29    280.0\n",
      "30    380.3\n",
      "31    243.0\n",
      "Name: Calories, dtype: float64\n"
     ]
    }
   ],
   "source": [
    "print(df['Calories'])"
   ]
  },
  {
   "cell_type": "markdown",
   "id": "a353515d-ca1b-4c1c-a932-9c504243ce2c",
   "metadata": {},
   "source": [
    "we will replace the null values in Calories column with mean value."
   ]
  },
  {
   "cell_type": "code",
   "execution_count": 95,
   "id": "539d2632-a0c7-434f-afe8-b239f04b4c1d",
   "metadata": {},
   "outputs": [],
   "source": [
    "mean_calories = df['Calories'].mean()\n",
    "df['Calories'] = df['Calories'].fillna(mean_calories)"
   ]
  },
  {
   "cell_type": "code",
   "execution_count": 96,
   "id": "3644ae41-7a8c-482e-ba08-c68e54faa397",
   "metadata": {},
   "outputs": [
    {
     "name": "stdout",
     "output_type": "stream",
     "text": [
      "    Duration       Date  Pulse  Maxpulse  Calories\n",
      "0         60 2020-12-01    110       130    409.10\n",
      "1         60 2020-12-02    117       145    479.00\n",
      "2         60 2020-12-03    103       135    340.00\n",
      "3         45 2020-12-04    109       175    282.40\n",
      "4         45 2020-12-05    117       148    406.00\n",
      "5         60 2020-12-06    102       127    300.00\n",
      "6         60 2020-12-07    110       136    374.00\n",
      "7        450 2020-12-08    104       134    253.30\n",
      "8         30 2020-12-09    109       133    195.10\n",
      "9         60 2020-12-10     98       124    269.00\n",
      "10        60 2020-12-11    103       147    329.30\n",
      "11        60 2020-12-12    100       120    250.70\n",
      "12        60 2020-12-12    100       120    250.70\n",
      "13        60 2020-12-13    106       128    345.30\n",
      "14        60 2020-12-14    104       132    379.30\n",
      "15        60 2020-12-15     98       123    275.00\n",
      "16        60 2020-12-16     98       120    215.20\n",
      "17        60 2020-12-17    100       120    300.00\n",
      "18        45 2020-12-18     90       112    304.68\n",
      "19        60 2020-12-19    103       123    323.00\n",
      "20        45 2020-12-20     97       125    243.00\n",
      "21        60 2020-12-21    108       131    364.20\n",
      "22        45 2020-12-22    100       119    282.00\n",
      "23        60 2020-12-23    130       101    300.00\n",
      "24        45 2020-12-24    105       132    246.00\n",
      "25        60 2020-12-25    102       126    334.50\n",
      "26        60 2020-12-26    100       120    250.00\n",
      "27        60 2020-12-27     92       118    241.00\n",
      "28        60 2020-12-28    103       132    304.68\n",
      "29        60 2020-12-29    100       132    280.00\n",
      "30        60 2020-12-30    102       129    380.30\n",
      "31        60 2020-12-31     92       115    243.00\n"
     ]
    }
   ],
   "source": [
    "print(df)"
   ]
  },
  {
   "cell_type": "markdown",
   "id": "d081c2e8-9a39-4e6f-9ffc-25e981923378",
   "metadata": {},
   "source": [
    "We will just rename column Maxpulse as Max_pulse and Pulse as Min_Pulse"
   ]
  },
  {
   "cell_type": "code",
   "execution_count": 97,
   "id": "bc34322f-f57d-4f7f-b5c0-8b1aea881cfc",
   "metadata": {},
   "outputs": [],
   "source": [
    "df.rename(columns={'Maxpulse': 'Max_pulse'}, inplace=True)\n",
    "df.rename(columns={'Pulse': 'Min_pulse'}, inplace=True)"
   ]
  },
  {
   "cell_type": "code",
   "execution_count": 98,
   "id": "e153f137-f0a5-4407-bfee-318130837c25",
   "metadata": {},
   "outputs": [
    {
     "name": "stdout",
     "output_type": "stream",
     "text": [
      "    Duration       Date  Min_pulse  Max_pulse  Calories\n",
      "0         60 2020-12-01        110        130    409.10\n",
      "1         60 2020-12-02        117        145    479.00\n",
      "2         60 2020-12-03        103        135    340.00\n",
      "3         45 2020-12-04        109        175    282.40\n",
      "4         45 2020-12-05        117        148    406.00\n",
      "5         60 2020-12-06        102        127    300.00\n",
      "6         60 2020-12-07        110        136    374.00\n",
      "7        450 2020-12-08        104        134    253.30\n",
      "8         30 2020-12-09        109        133    195.10\n",
      "9         60 2020-12-10         98        124    269.00\n",
      "10        60 2020-12-11        103        147    329.30\n",
      "11        60 2020-12-12        100        120    250.70\n",
      "12        60 2020-12-12        100        120    250.70\n",
      "13        60 2020-12-13        106        128    345.30\n",
      "14        60 2020-12-14        104        132    379.30\n",
      "15        60 2020-12-15         98        123    275.00\n",
      "16        60 2020-12-16         98        120    215.20\n",
      "17        60 2020-12-17        100        120    300.00\n",
      "18        45 2020-12-18         90        112    304.68\n",
      "19        60 2020-12-19        103        123    323.00\n",
      "20        45 2020-12-20         97        125    243.00\n",
      "21        60 2020-12-21        108        131    364.20\n",
      "22        45 2020-12-22        100        119    282.00\n",
      "23        60 2020-12-23        130        101    300.00\n",
      "24        45 2020-12-24        105        132    246.00\n",
      "25        60 2020-12-25        102        126    334.50\n",
      "26        60 2020-12-26        100        120    250.00\n",
      "27        60 2020-12-27         92        118    241.00\n",
      "28        60 2020-12-28        103        132    304.68\n",
      "29        60 2020-12-29        100        132    280.00\n",
      "30        60 2020-12-30        102        129    380.30\n",
      "31        60 2020-12-31         92        115    243.00\n"
     ]
    }
   ],
   "source": [
    "print(df)"
   ]
  },
  {
   "cell_type": "markdown",
   "id": "bd95fea2-442c-4e48-a472-c6fd763e41fa",
   "metadata": {},
   "source": [
    "Data looks clean now we will look for outlier"
   ]
  },
  {
   "cell_type": "code",
   "execution_count": 99,
   "id": "94df0994-5b67-4045-9fd9-bbd6d737f7c1",
   "metadata": {},
   "outputs": [
    {
     "name": "stdout",
     "output_type": "stream",
     "text": [
      "Outliers for Duration:\n",
      "3      45\n",
      "4      45\n",
      "7     450\n",
      "8      30\n",
      "18     45\n",
      "20     45\n",
      "22     45\n",
      "24     45\n",
      "Name: Duration, dtype: int64\n",
      "\n",
      "\n",
      "Outliers for Min_pulse:\n",
      "1     117\n",
      "4     117\n",
      "18     90\n",
      "23    130\n",
      "Name: Min_pulse, dtype: int64\n",
      "\n",
      "\n",
      "Outliers for Max_pulse:\n",
      "3     175\n",
      "23    101\n",
      "Name: Max_pulse, dtype: int64\n",
      "\n",
      "\n",
      "Outliers for Calories:\n",
      "1    479.0\n",
      "Name: Calories, dtype: float64\n",
      "\n",
      "\n"
     ]
    }
   ],
   "source": [
    "outliers_dict = {}\n",
    "\n",
    "for column in ['Duration', 'Min_pulse', 'Max_pulse', 'Calories']:\n",
    "    Q1 = df[column].quantile(0.25)\n",
    "    Q3 = df[column].quantile(0.75)\n",
    "    IQR = Q3 - Q1\n",
    "    lower_bound = Q1 - 1.5 * IQR\n",
    "    upper_bound = Q3 + 1.5 * IQR\n",
    "    \n",
    "    outliers_dict[column] = {\n",
    "        'lower_bound': lower_bound,\n",
    "        'upper_bound': upper_bound,\n",
    "        'outliers': df[(df[column] < lower_bound) | (df[column] > upper_bound)]\n",
    "    }\n",
    "    \n",
    "# Print outliers for each column\n",
    "for column, data in outliers_dict.items():\n",
    "    print(f\"Outliers for {column}:\")\n",
    "    print(data['outliers'][column])\n",
    "    print(\"\\n\")\n"
   ]
  },
  {
   "cell_type": "markdown",
   "id": "e35f9b46-d318-4664-87fa-9d8970f44fca",
   "metadata": {},
   "source": [
    "Here we can see Duration has 8 outliers and 3 unique outlier value 30, 45 and 450\n",
    "Pulse has 4 outliers and 3 unique outlier values 117, 90, 130\n",
    "Max_Pulse has 2 unique outliers and they are 175, 101\n",
    "Calories has only one outlier 479\n",
    "\n",
    "Lets deal with outliers by replacing them with median value\n"
   ]
  },
  {
   "cell_type": "code",
   "execution_count": 100,
   "id": "8a815c79-e75d-4224-b83c-eeb3e2ef0ba5",
   "metadata": {},
   "outputs": [],
   "source": [
    "# Calculate the median value of Duration\n",
    "duration_median = df['Duration'].median()\n",
    "\n",
    "# Replace outliers with the median for the 'Duration' column\n",
    "df['Duration'] = df['Duration'].apply(lambda x: duration_median if x == 450 or x == 30 else x)"
   ]
  },
  {
   "cell_type": "code",
   "execution_count": 101,
   "id": "6a4c0464-ea64-4257-9eac-7ed8ca0c6908",
   "metadata": {},
   "outputs": [],
   "source": [
    "# Calculate the median value of Min_pulse\n",
    "min_pulse_median = df['Min_pulse'].median()\n",
    "df['Min_pulse'] = df['Min_pulse'].apply(lambda x: min_pulse_median if x == 130 or x == 90 else x)"
   ]
  },
  {
   "cell_type": "code",
   "execution_count": 102,
   "id": "be17ff82-0cca-4246-b156-17a4df1ce8df",
   "metadata": {},
   "outputs": [],
   "source": [
    "# Calculate the median value of Max_pulse\n",
    "Max_pulse_median = df['Max_pulse'].median()\n",
    "df['Max_pulse'] = df['Max_pulse'].apply(lambda x: Max_pulse_median if x == 175 or x == 101 else x)"
   ]
  },
  {
   "cell_type": "code",
   "execution_count": 103,
   "id": "77c46fc9-4458-4429-b64b-4caee13655f1",
   "metadata": {},
   "outputs": [],
   "source": [
    "calories_median = df['Calories'].median()\n",
    "df['Calories'] = df['Calories'].apply(lambda x: calories_median if x == 479.0 else x)"
   ]
  },
  {
   "cell_type": "code",
   "execution_count": 104,
   "id": "e64e4599-9eec-4bbe-b862-dd8552828959",
   "metadata": {},
   "outputs": [
    {
     "name": "stdout",
     "output_type": "stream",
     "text": [
      "    Duration       Date  Min_pulse  Max_pulse  Calories\n",
      "0       60.0 2020-12-01      110.0      130.0    409.10\n",
      "1       60.0 2020-12-02      117.0      145.0    300.00\n",
      "2       60.0 2020-12-03      103.0      135.0    340.00\n",
      "3       45.0 2020-12-04      109.0      127.5    282.40\n",
      "4       45.0 2020-12-05      117.0      148.0    406.00\n",
      "5       60.0 2020-12-06      102.0      127.0    300.00\n",
      "6       60.0 2020-12-07      110.0      136.0    374.00\n",
      "7       60.0 2020-12-08      104.0      134.0    253.30\n",
      "8       60.0 2020-12-09      109.0      133.0    195.10\n",
      "9       60.0 2020-12-10       98.0      124.0    269.00\n",
      "10      60.0 2020-12-11      103.0      147.0    329.30\n",
      "11      60.0 2020-12-12      100.0      120.0    250.70\n",
      "12      60.0 2020-12-12      100.0      120.0    250.70\n",
      "13      60.0 2020-12-13      106.0      128.0    345.30\n",
      "14      60.0 2020-12-14      104.0      132.0    379.30\n",
      "15      60.0 2020-12-15       98.0      123.0    275.00\n",
      "16      60.0 2020-12-16       98.0      120.0    215.20\n",
      "17      60.0 2020-12-17      100.0      120.0    300.00\n",
      "18      45.0 2020-12-18      102.5      112.0    304.68\n",
      "19      60.0 2020-12-19      103.0      123.0    323.00\n",
      "20      45.0 2020-12-20       97.0      125.0    243.00\n",
      "21      60.0 2020-12-21      108.0      131.0    364.20\n",
      "22      45.0 2020-12-22      100.0      119.0    282.00\n",
      "23      60.0 2020-12-23      102.5      127.5    300.00\n",
      "24      45.0 2020-12-24      105.0      132.0    246.00\n",
      "25      60.0 2020-12-25      102.0      126.0    334.50\n",
      "26      60.0 2020-12-26      100.0      120.0    250.00\n",
      "27      60.0 2020-12-27       92.0      118.0    241.00\n",
      "28      60.0 2020-12-28      103.0      132.0    304.68\n",
      "29      60.0 2020-12-29      100.0      132.0    280.00\n",
      "30      60.0 2020-12-30      102.0      129.0    380.30\n",
      "31      60.0 2020-12-31       92.0      115.0    243.00\n"
     ]
    }
   ],
   "source": [
    "print(df)"
   ]
  },
  {
   "cell_type": "markdown",
   "id": "a2c62e61-03a0-4d2e-b908-6ed10a0020a8",
   "metadata": {},
   "source": [
    "Now data is completely clean and sorted and ready for statistical analysis and visualization"
   ]
  },
  {
   "cell_type": "code",
   "execution_count": 105,
   "id": "20247251-3af4-4f83-a82a-eb3c0b180b5c",
   "metadata": {},
   "outputs": [
    {
     "data": {
      "text/html": [
       "<div>\n",
       "<style scoped>\n",
       "    .dataframe tbody tr th:only-of-type {\n",
       "        vertical-align: middle;\n",
       "    }\n",
       "\n",
       "    .dataframe tbody tr th {\n",
       "        vertical-align: top;\n",
       "    }\n",
       "\n",
       "    .dataframe thead th {\n",
       "        text-align: right;\n",
       "    }\n",
       "</style>\n",
       "<table border=\"1\" class=\"dataframe\">\n",
       "  <thead>\n",
       "    <tr style=\"text-align: right;\">\n",
       "      <th></th>\n",
       "      <th>Duration</th>\n",
       "      <th>Min_pulse</th>\n",
       "      <th>Max_pulse</th>\n",
       "      <th>Calories</th>\n",
       "    </tr>\n",
       "  </thead>\n",
       "  <tbody>\n",
       "    <tr>\n",
       "      <th>count</th>\n",
       "      <td>32.000000</td>\n",
       "      <td>32.000000</td>\n",
       "      <td>32.000000</td>\n",
       "      <td>32.000000</td>\n",
       "    </tr>\n",
       "    <tr>\n",
       "      <th>mean</th>\n",
       "      <td>57.187500</td>\n",
       "      <td>103.031250</td>\n",
       "      <td>127.843750</td>\n",
       "      <td>299.086250</td>\n",
       "    </tr>\n",
       "    <tr>\n",
       "      <th>std</th>\n",
       "      <td>5.948367</td>\n",
       "      <td>5.714918</td>\n",
       "      <td>8.628009</td>\n",
       "      <td>55.349805</td>\n",
       "    </tr>\n",
       "    <tr>\n",
       "      <th>min</th>\n",
       "      <td>45.000000</td>\n",
       "      <td>92.000000</td>\n",
       "      <td>112.000000</td>\n",
       "      <td>195.100000</td>\n",
       "    </tr>\n",
       "    <tr>\n",
       "      <th>25%</th>\n",
       "      <td>60.000000</td>\n",
       "      <td>100.000000</td>\n",
       "      <td>120.000000</td>\n",
       "      <td>250.700000</td>\n",
       "    </tr>\n",
       "    <tr>\n",
       "      <th>50%</th>\n",
       "      <td>60.000000</td>\n",
       "      <td>102.500000</td>\n",
       "      <td>127.500000</td>\n",
       "      <td>300.000000</td>\n",
       "    </tr>\n",
       "    <tr>\n",
       "      <th>75%</th>\n",
       "      <td>60.000000</td>\n",
       "      <td>105.250000</td>\n",
       "      <td>132.000000</td>\n",
       "      <td>335.875000</td>\n",
       "    </tr>\n",
       "    <tr>\n",
       "      <th>max</th>\n",
       "      <td>60.000000</td>\n",
       "      <td>117.000000</td>\n",
       "      <td>148.000000</td>\n",
       "      <td>409.100000</td>\n",
       "    </tr>\n",
       "  </tbody>\n",
       "</table>\n",
       "</div>"
      ],
      "text/plain": [
       "        Duration   Min_pulse   Max_pulse    Calories\n",
       "count  32.000000   32.000000   32.000000   32.000000\n",
       "mean   57.187500  103.031250  127.843750  299.086250\n",
       "std     5.948367    5.714918    8.628009   55.349805\n",
       "min    45.000000   92.000000  112.000000  195.100000\n",
       "25%    60.000000  100.000000  120.000000  250.700000\n",
       "50%    60.000000  102.500000  127.500000  300.000000\n",
       "75%    60.000000  105.250000  132.000000  335.875000\n",
       "max    60.000000  117.000000  148.000000  409.100000"
      ]
     },
     "execution_count": 105,
     "metadata": {},
     "output_type": "execute_result"
    }
   ],
   "source": [
    "df.describe()"
   ]
  },
  {
   "cell_type": "markdown",
   "id": "965b4be1-81a2-4f07-b48d-4dc1e69b89d7",
   "metadata": {},
   "source": [
    "So average duration is 57.1875, where min is 45 and max is 60\n",
    "average pulse is 100.375 where min is 60 and max is 117\n",
    "average max_pulse is 123.625, where min is 132.625 and max is 148\n",
    "average calories is 299.08625 where min is 195.1 and max is 409.1"
   ]
  },
  {
   "cell_type": "code",
   "execution_count": 106,
   "id": "fb61968f-7aa8-4939-ad16-14273be69385",
   "metadata": {},
   "outputs": [
    {
     "name": "stdout",
     "output_type": "stream",
     "text": [
      "60.0\n"
     ]
    }
   ],
   "source": [
    "print(duration_median)"
   ]
  },
  {
   "cell_type": "code",
   "execution_count": 107,
   "id": "06dcf6f7-a9d5-46ce-9e86-37b966c2157a",
   "metadata": {},
   "outputs": [
    {
     "name": "stdout",
     "output_type": "stream",
     "text": [
      "102.5\n"
     ]
    }
   ],
   "source": [
    "print(min_pulse_median)"
   ]
  },
  {
   "cell_type": "code",
   "execution_count": 108,
   "id": "cb22c730-a323-4bf9-b35d-ff341e13acd4",
   "metadata": {},
   "outputs": [
    {
     "name": "stdout",
     "output_type": "stream",
     "text": [
      "127.5\n"
     ]
    }
   ],
   "source": [
    "print(Max_pulse_median)"
   ]
  },
  {
   "cell_type": "code",
   "execution_count": 109,
   "id": "63020275-374c-4f28-87f7-89c9fe027284",
   "metadata": {},
   "outputs": [
    {
     "name": "stdout",
     "output_type": "stream",
     "text": [
      "300.0\n"
     ]
    }
   ],
   "source": [
    "print(calories_median)"
   ]
  },
  {
   "cell_type": "code",
   "execution_count": 110,
   "id": "926800b6-cc9a-4b57-bf84-d01f75576531",
   "metadata": {},
   "outputs": [
    {
     "name": "stdout",
     "output_type": "stream",
     "text": [
      "0    60.0\n",
      "Name: Duration, dtype: float64\n",
      "0    100.0\n",
      "Name: Min_pulse, dtype: float64\n",
      "0    120.0\n",
      "Name: Max_pulse, dtype: float64\n",
      "0    300.0\n",
      "Name: Calories, dtype: float64\n"
     ]
    }
   ],
   "source": [
    "duration_mode = df['Duration'].mode()\n",
    "print(duration_mode)\n",
    "min_pulse_mode = df['Min_pulse'].mode()\n",
    "print(min_pulse_mode)\n",
    "max_pulse_mode= df['Max_pulse'].mode()\n",
    "print(max_pulse_mode)\n",
    "calories_mode= df['Calories'].mode()\n",
    "print(calories_mode)"
   ]
  },
  {
   "cell_type": "code",
   "execution_count": 111,
   "id": "7b3dc2eb-3231-44ac-b4a6-e8efb3b1e6db",
   "metadata": {},
   "outputs": [],
   "source": [
    "# Group by Duration (45 and 60)\n",
    "grouped = df.groupby('Duration')\n",
    "\n",
    "# Display the groups separately for Duration = 45 and Duration = 60\n",
    "group_45 = grouped.get_group(45)\n",
    "group_60 = grouped.get_group(60)\n",
    "\n"
   ]
  },
  {
   "cell_type": "code",
   "execution_count": 112,
   "id": "34aba3b8-cc95-4361-bc12-5ec50a344262",
   "metadata": {},
   "outputs": [
    {
     "name": "stdout",
     "output_type": "stream",
     "text": [
      "Group with Duration 45:\n",
      "    Duration       Date  Min_pulse  Max_pulse  Calories\n",
      "3       45.0 2020-12-04      109.0      127.5    282.40\n",
      "4       45.0 2020-12-05      117.0      148.0    406.00\n",
      "18      45.0 2020-12-18      102.5      112.0    304.68\n",
      "20      45.0 2020-12-20       97.0      125.0    243.00\n",
      "22      45.0 2020-12-22      100.0      119.0    282.00\n",
      "24      45.0 2020-12-24      105.0      132.0    246.00\n",
      "\n",
      "Group with Duration 60:\n",
      "    Duration       Date  Min_pulse  Max_pulse  Calories\n",
      "0       60.0 2020-12-01      110.0      130.0    409.10\n",
      "1       60.0 2020-12-02      117.0      145.0    300.00\n",
      "2       60.0 2020-12-03      103.0      135.0    340.00\n",
      "5       60.0 2020-12-06      102.0      127.0    300.00\n",
      "6       60.0 2020-12-07      110.0      136.0    374.00\n",
      "7       60.0 2020-12-08      104.0      134.0    253.30\n",
      "8       60.0 2020-12-09      109.0      133.0    195.10\n",
      "9       60.0 2020-12-10       98.0      124.0    269.00\n",
      "10      60.0 2020-12-11      103.0      147.0    329.30\n",
      "11      60.0 2020-12-12      100.0      120.0    250.70\n",
      "12      60.0 2020-12-12      100.0      120.0    250.70\n",
      "13      60.0 2020-12-13      106.0      128.0    345.30\n",
      "14      60.0 2020-12-14      104.0      132.0    379.30\n",
      "15      60.0 2020-12-15       98.0      123.0    275.00\n",
      "16      60.0 2020-12-16       98.0      120.0    215.20\n",
      "17      60.0 2020-12-17      100.0      120.0    300.00\n",
      "19      60.0 2020-12-19      103.0      123.0    323.00\n",
      "21      60.0 2020-12-21      108.0      131.0    364.20\n",
      "23      60.0 2020-12-23      102.5      127.5    300.00\n",
      "25      60.0 2020-12-25      102.0      126.0    334.50\n",
      "26      60.0 2020-12-26      100.0      120.0    250.00\n",
      "27      60.0 2020-12-27       92.0      118.0    241.00\n",
      "28      60.0 2020-12-28      103.0      132.0    304.68\n",
      "29      60.0 2020-12-29      100.0      132.0    280.00\n",
      "30      60.0 2020-12-30      102.0      129.0    380.30\n",
      "31      60.0 2020-12-31       92.0      115.0    243.00\n"
     ]
    }
   ],
   "source": [
    "# Print the grouped data\n",
    "print(\"Group with Duration 45:\")\n",
    "print(group_45)\n",
    "\n",
    "print(\"\\nGroup with Duration 60:\")\n",
    "print(group_60)"
   ]
  },
  {
   "cell_type": "code",
   "execution_count": 113,
   "id": "d72028c3-1a74-4165-afac-727f9c50af17",
   "metadata": {},
   "outputs": [
    {
     "name": "stdout",
     "output_type": "stream",
     "text": [
      "           Duration  Min_pulse  Max_pulse  Calories\n",
      "Duration   1.000000  -0.175254   0.033587  0.044733\n",
      "Min_pulse -0.175254   1.000000   0.736253  0.528026\n",
      "Max_pulse  0.033587   0.736253   1.000000  0.459364\n",
      "Calories   0.044733   0.528026   0.459364  1.000000\n"
     ]
    }
   ],
   "source": [
    "corr = df.corr()\n",
    "print(corr)"
   ]
  },
  {
   "cell_type": "markdown",
   "id": "1d8bfa53-251b-458f-ba9c-534989dcc41a",
   "metadata": {},
   "source": [
    "variable calories has significant correlation with both min_pulse and max_pulse and min_pulse and max_pulse has strongest correlation.\n",
    "Here we see the higher is the minimum pulse rate the higher is the maximum pulse rate.\n",
    "The higher is calories intake the higher is minimum pulse rate and maximum pulse rate."
   ]
  },
  {
   "cell_type": "code",
   "execution_count": 125,
   "id": "9e0372f0-521e-48b0-aac7-47267832672f",
   "metadata": {},
   "outputs": [
    {
     "data": {
      "image/png": "[encoded data removed]",
      "text/plain": [
       "<Figure size 432x288 with 1 Axes>"
      ]
     },
     "metadata": {
      "needs_background": "light"
     },
     "output_type": "display_data"
    }
   ],
   "source": [
    "import seaborn as sns\n",
    "plt.figure(figsize=(6, 4))\n",
    "sns.histplot(df['Calories'], bins=10, kde=True, color='skyblue')\n",
    "\n",
    "plt.xlabel('Calories Burned')\n",
    "plt.ylabel('Frequency')\n",
    "plt.title('Distribution of Calories Burned')\n",
    "plt.show()"
   ]
  },
  {
   "cell_type": "code",
   "execution_count": 115,
   "id": "9d15844b-eee4-4035-a9af-1aab32701b16",
   "metadata": {},
   "outputs": [
    {
     "data": {
      "image/png": "[encoded data removed]",
      "text/plain": [
       "<Figure size 432x288 with 1 Axes>"
      ]
     },
     "metadata": {
      "needs_background": "light"
     },
     "output_type": "display_data"
    }
   ],
   "source": [
    "plt.bar(df['Min_pulse'],df['Calories'], color='skyblue')\n",
    "\n",
    "# Labels and title\n",
    "plt.xlabel(\"Min_pulse\")\n",
    "plt.ylabel(\"Calories\")\n",
    "plt.title(\"Min_pulse vs Calories\")\n",
    "\n",
    "# Show plot\n",
    "plt.show()"
   ]
  },
  {
   "cell_type": "code",
   "execution_count": 116,
   "id": "6030b10b-07b9-43f7-a85f-6a2a3062b03c",
   "metadata": {},
   "outputs": [
    {
     "data": {
      "image/png": "[encoded data removed]",
      "text/plain": [
       "<Figure size 432x288 with 1 Axes>"
      ]
     },
     "metadata": {
      "needs_background": "light"
     },
     "output_type": "display_data"
    }
   ],
   "source": [
    "plt.bar(df['Max_pulse'],df['Calories'], color='skyblue')\n",
    "\n",
    "# Labels and title\n",
    "plt.xlabel(\"Max_pulse\")\n",
    "plt.ylabel(\"Calories\")\n",
    "plt.title(\"Max_pulse vs Calories\")\n",
    "\n",
    "# Show plot\n",
    "plt.show()"
   ]
  },
  {
   "cell_type": "code",
   "execution_count": 118,
   "id": "8cf2d64c-dc63-496a-b9eb-e6aaceece943",
   "metadata": {},
   "outputs": [
    {
     "data": {
      "image/png": "[encoded data removed]",
      "text/plain": [
       "<Figure size 432x288 with 1 Axes>"
      ]
     },
     "metadata": {
      "needs_background": "light"
     },
     "output_type": "display_data"
    }
   ],
   "source": [
    "plt.bar(df['Max_pulse'],df['Min_pulse'], color='skyblue')\n",
    "\n",
    "# Labels and title\n",
    "plt.xlabel(\"Max_pulse\")\n",
    "plt.ylabel(\"Min_pulse\")\n",
    "plt.title(\"Max_pulse vs Min_pulse\")\n",
    "\n",
    "# Show plot\n",
    "plt.show()"
   ]
  },
  {
   "cell_type": "code",
   "execution_count": 120,
   "id": "2a03dc96-be2c-4c0a-9dd4-25f9cf1304f1",
   "metadata": {},
   "outputs": [
    {
     "data": {
      "image/png": "[encoded data removed]",
      "text/plain": [
       "<Figure size 720x360 with 1 Axes>"
      ]
     },
     "metadata": {
      "needs_background": "light"
     },
     "output_type": "display_data"
    }
   ],
   "source": [
    "plt.figure(figsize=(10, 5))\n",
    "plt.plot(df['Date'], df['Calories'], marker='o', linestyle='-', color='b', label='Calories')\n",
    "\n",
    "plt.xlabel('Date')\n",
    "plt.ylabel('Calories')\n",
    "plt.title('Calories Intake change Time')\n",
    "plt.xticks(rotation=45)\n",
    "plt.legend()\n",
    "plt.grid(True)\n",
    "plt.show()"
   ]
  },
  {
   "cell_type": "code",
   "execution_count": 126,
   "id": "8c9b0081-7b48-4e3b-af8f-490bee52fa61",
   "metadata": {},
   "outputs": [
    {
     "data": {
      "image/png": "[encoded data removed]",
      "text/plain": [
       "<Figure size 720x360 with 1 Axes>"
      ]
     },
     "metadata": {
      "needs_background": "light"
     },
     "output_type": "display_data"
    }
   ],
   "source": [
    "plt.figure(figsize=(10, 5))\n",
    "plt.plot(df['Date'], df['Min_pulse'], marker='o', linestyle='-', color='b', label='Min_pulse')\n",
    "\n",
    "plt.xlabel('Date')\n",
    "plt.ylabel('Min_pulse')\n",
    "plt.title('Min_pulse change over Time')\n",
    "plt.xticks(rotation=45)\n",
    "plt.legend()\n",
    "plt.grid(True)\n",
    "plt.show()"
   ]
  },
  {
   "cell_type": "code",
   "execution_count": 127,
   "id": "4ce80057-48fc-428e-b4bc-b76a520f8c8e",
   "metadata": {},
   "outputs": [
    {
     "data": {
      "image/png": "[encoded data removed]",
      "text/plain": [
       "<Figure size 720x360 with 1 Axes>"
      ]
     },
     "metadata": {
      "needs_background": "light"
     },
     "output_type": "display_data"
    }
   ],
   "source": [
    "plt.figure(figsize=(10, 5))\n",
    "plt.plot(df['Date'], df['Max_pulse'], marker='o', linestyle='-', color='b', label='Max_pulse')\n",
    "\n",
    "plt.xlabel('Date')\n",
    "plt.ylabel('Max_pulse')\n",
    "plt.title('Max_pulse change over Time')\n",
    "plt.xticks(rotation=45)\n",
    "plt.legend()\n",
    "plt.grid(True)\n",
    "plt.show()"
   ]
  },
  {
   "cell_type": "markdown",
   "id": "38199ec1-6ea0-42f8-81a0-cf550eb61bcb",
   "metadata": {},
   "source": [
    "Assuming these data belong to one person we can see over time that person reduced calories intake which decreased "
   ]
  }
 ],
 "metadata": {
  "kernelspec": {
   "display_name": "Python 3 (ipykernel)",
   "language": "python",
   "name": "python3"
  },
  "language_info": {
   "codemirror_mode": {
    "name": "ipython",
    "version": 3
   },
   "file_extension": ".py",
   "mimetype": "text/x-python",
   "name": "python",
   "nbconvert_exporter": "python",
   "pygments_lexer": "ipython3",
   "version": "3.9.12"
  }
 },
 "nbformat": 4,
 "nbformat_minor": 5
}
